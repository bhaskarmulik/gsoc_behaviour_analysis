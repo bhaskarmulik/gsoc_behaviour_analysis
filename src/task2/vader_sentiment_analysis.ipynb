{
 "cells": [
  {
   "cell_type": "code",
   "execution_count": null,
   "metadata": {},
   "outputs": [],
   "source": [
    "#Import stuff\n",
    "from nltk.sentiment.vader import SentimentIntensityAnalyzer\n",
    "from sklearn.feature_extraction.text import TfidfVectorizer\n",
    "import pandas as pd"
   ]
  },
  {
   "cell_type": "code",
   "execution_count": null,
   "metadata": {},
   "outputs": [
    {
     "data": {
      "text/plain": [
       "title                   object\n",
       "score                    int64\n",
       "id                      object\n",
       "subreddit               object\n",
       "url                     object\n",
       "num_comments             int64\n",
       "num_upvotes              int64\n",
       "selftext                object\n",
       "created         datetime64[ns]\n",
       "dtype: object"
      ]
     },
     "execution_count": 45,
     "metadata": {},
     "output_type": "execute_result"
    }
   ],
   "source": [
    "df = pd.read_csv(\"./../../data/reddit_data.csv\", encoding='utf-8')\n",
    "df.created = pd.to_datetime(df.created)\n",
    "df.title = df.title.astype(str)\n",
    "df.selftext = df.selftext.astype(str)\n",
    "df.dtypes"
   ]
  },
  {
   "cell_type": "code",
   "execution_count": null,
   "metadata": {},
   "outputs": [],
   "source": [
    "import re\n",
    "#Remove URLs\n",
    "df[\"title\"] = df[\"title\"].apply(lambda x : re.sub(r\"http\\S+|www\\S+|https\\S+\", \"\", x))\n",
    "df[\"selftext\"] = df[\"selftext\"].apply(lambda x : re.sub(r\"http\\S+|www\\S+|https\\S+\", \"\", x))"
   ]
  },
  {
   "cell_type": "code",
   "execution_count": 47,
   "metadata": {},
   "outputs": [
    {
     "data": {
      "text/plain": [
       "title                   object\n",
       "score                    int64\n",
       "id                      object\n",
       "subreddit               object\n",
       "url                     object\n",
       "num_comments             int64\n",
       "num_upvotes              int64\n",
       "selftext                object\n",
       "created         datetime64[ns]\n",
       "dtype: object"
      ]
     },
     "execution_count": 47,
     "metadata": {},
     "output_type": "execute_result"
    }
   ],
   "source": [
    "df.head()\n",
    "df.dtypes"
   ]
  },
  {
   "cell_type": "code",
   "execution_count": null,
   "metadata": {},
   "outputs": [],
   "source": [
    "def score_to_sentiment(score : float, threshold = 0.05):\n",
    "\n",
    "    #Using threshold 0.05 as recommended by the VADER documentation\n",
    "    if score > threshold:\n",
    "        return \"positive\"\n",
    "    elif score < -threshold:\n",
    "        return \"negative\"\n",
    "    else:\n",
    "        return \"neutral\"\n",
    "#Using the VADER sentiment analysis tool\n",
    "vader = SentimentIntensityAnalyzer()\n",
    "df[\"vader_title_sentiment\"] = df[\"title\"].apply(lambda x : vader.polarity_scores(x)[\"compound\"])\n",
    "df[\"vader_selftext_sentiment\"] = df[\"selftext\"].apply(lambda x : vader.polarity_scores(x)[\"compound\"])\n",
    "df[\"vader_sentiment\"] = df[\"selftext\"].apply(\n",
    "    lambda x : score_to_sentiment(vader.polarity_scores(x)[\"compound\"])\n",
    "    )"
   ]
  },
  {
   "cell_type": "code",
   "execution_count": 53,
   "metadata": {},
   "outputs": [
    {
     "data": {
      "text/html": [
       "<div>\n",
       "<style scoped>\n",
       "    .dataframe tbody tr th:only-of-type {\n",
       "        vertical-align: middle;\n",
       "    }\n",
       "\n",
       "    .dataframe tbody tr th {\n",
       "        vertical-align: top;\n",
       "    }\n",
       "\n",
       "    .dataframe thead th {\n",
       "        text-align: right;\n",
       "    }\n",
       "</style>\n",
       "<table border=\"1\" class=\"dataframe\">\n",
       "  <thead>\n",
       "    <tr style=\"text-align: right;\">\n",
       "      <th></th>\n",
       "      <th>title</th>\n",
       "      <th>score</th>\n",
       "      <th>id</th>\n",
       "      <th>subreddit</th>\n",
       "      <th>url</th>\n",
       "      <th>num_comments</th>\n",
       "      <th>num_upvotes</th>\n",
       "      <th>selftext</th>\n",
       "      <th>created</th>\n",
       "      <th>vader_title_sentiment</th>\n",
       "      <th>vader_selftext_sentiment</th>\n",
       "      <th>vader_sentiment</th>\n",
       "    </tr>\n",
       "  </thead>\n",
       "  <tbody>\n",
       "    <tr>\n",
       "      <th>512</th>\n",
       "      <td>care much days...</td>\n",
       "      <td>1</td>\n",
       "      <td>1jfz4tg</td>\n",
       "      <td>depression_help</td>\n",
       "      <td>https://www.reddit.com/r/depression_help/comme...</td>\n",
       "      <td>1</td>\n",
       "      <td>1</td>\n",
       "      <td>ive depressed life, slowly inch inch feel like...</td>\n",
       "      <td>2025-03-20 20:44:44</td>\n",
       "      <td>0.4939</td>\n",
       "      <td>0.9767</td>\n",
       "      <td>positive</td>\n",
       "    </tr>\n",
       "  </tbody>\n",
       "</table>\n",
       "</div>"
      ],
      "text/plain": [
       "                 title  score  ... vader_selftext_sentiment vader_sentiment\n",
       "512  care much days...      1  ...                   0.9767        positive\n",
       "\n",
       "[1 rows x 12 columns]"
      ]
     },
     "execution_count": 53,
     "metadata": {},
     "output_type": "execute_result"
    }
   ],
   "source": [
    "df = df.rename(columns={\n",
    "    'title_sentiment': 'vader_title_sentiment',\n",
    "    'selftext_sentiment': 'vader_selftext_sentiment',\n",
    "    'sentiment': 'vader_sentiment'\n",
    "})\n",
    "df.sample(1)"
   ]
  },
  {
   "cell_type": "code",
   "execution_count": 54,
   "metadata": {},
   "outputs": [],
   "source": [
    "df.to_csv(\"./../../data/vader_sentiment.csv\", index=False, encoding='utf-8')"
   ]
  }
 ],
 "metadata": {
  "kernelspec": {
   "display_name": "gsoc",
   "language": "python",
   "name": "python3"
  },
  "language_info": {
   "codemirror_mode": {
    "name": "ipython",
    "version": 3
   },
   "file_extension": ".py",
   "mimetype": "text/x-python",
   "name": "python",
   "nbconvert_exporter": "python",
   "pygments_lexer": "ipython3",
   "version": "3.13.2"
  }
 },
 "nbformat": 4,
 "nbformat_minor": 2
}
