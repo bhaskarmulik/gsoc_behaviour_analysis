{
 "cells": [
  {
   "cell_type": "code",
   "execution_count": null,
   "metadata": {},
   "outputs": [],
   "source": [
    "import tweepy\n",
    "import pandas as pd\n",
    "import os\n",
    "from dotenv import load_dotenv\n",
    "from typing import List, Dict, Union\n",
    "import time\n",
    "import tweepy.client\n",
    "from requests import Response"
   ]
  },
  {
   "cell_type": "code",
   "execution_count": 2,
   "metadata": {},
   "outputs": [],
   "source": [
    "def set_api(auth_2 : bool) -> tweepy.API:\n",
    "\n",
    "    #Loading the .env file\n",
    "    load_dotenv()\n",
    "    if not auth_2:\n",
    "        #Getting the key\n",
    "        consumer_key = os.getenv('CONSUMER_KEY')\n",
    "        consumer_secret = os.getenv('CONSUMER_SECRET_KEY')\n",
    "        access_token = os.getenv('ACCESS_TOKEN')\n",
    "        access_token_secret = os.getenv('ACCESS_TOKEN_SECRET')\n",
    "\n",
    "        #Setting the auth\n",
    "        auth = tweepy.OAuth1UserHandler(\n",
    "            consumer_key,\n",
    "            consumer_secret,\n",
    "            access_token,\n",
    "            access_token_secret\n",
    "        )\n",
    "\n",
    "        #Set the API\n",
    "        api = tweepy.API(\n",
    "            auth,\n",
    "            timeout=1,\n",
    "            wait_on_rate_limit=True,\n",
    "            )\n",
    "    else:\n",
    "        bearer_token = os.getenv('BEARER_TOKEN')\n",
    "        consumer_key = os.getenv('CONSUMER_KEY')\n",
    "        consumer_secret = os.getenv('CONSUMER_SECRET_KEY')\n",
    "        access_token = os.getenv('ACCESS_TOKEN')\n",
    "        access_token_secret = os.getenv('ACCESS_TOKEN_SECRET')\n",
    "\n",
    "        api = tweepy.Client(\n",
    "            bearer_token= bearer_token,\n",
    "            consumer_key= consumer_key,\n",
    "            consumer_secret= consumer_secret,\n",
    "            access_token= access_token,\n",
    "            access_token_secret= access_token_secret,\n",
    "            wait_on_rate_limit=True,\n",
    "        )\n",
    "    \n",
    "\n",
    "    return api"
   ]
  },
  {
   "cell_type": "code",
   "execution_count": null,
   "metadata": {},
   "outputs": [],
   "source": [
    "def test_function(\n",
    "        api : Union[tweepy.Client, tweepy.API], \n",
    "        query : List[str], \n",
    "        no_of_requests : int, \n",
    "        delay : Union[int, time.time]\n",
    "        ) -> tweepy.client.Response:\n",
    "\n",
    "    if type(api) == tweepy.Client:\n",
    "        try: \n",
    "            # We are going to call this once every 15 minutes\n",
    "\n",
    "            for i in range(no_of_requests):\n",
    "                last_req_time = time.time()\n",
    "                while(time.time() - last_req_time < delay):\n",
    "                    search =  api.search_recent_tweets(\n",
    "                        query = query,\n",
    "                        max_results = 100\n",
    "                    )\n",
    "                    print(search)\n",
    "                    last_req_time = time.time() \n",
    "        except BaseException as e:\n",
    "            print(f\"Wasnt able to scrape data. \\nReason : {e}\")\n",
    "        \n",
    "        return search\n",
    "     \n",
    "    else:\n",
    "\n",
    "        try : \n",
    "            search = api.search_tweets(\n",
    "                q = query,\n",
    "                lang = 'en',\n",
    "                count = 1,\n",
    "                result_type = 'recent'\n",
    "            )\n",
    "            \n",
    "        except BaseException as e:\n",
    "            print(f\"Wasnt scraped. \\nReason: {e}\")\n",
    "        return search"
   ]
  },
  {
   "cell_type": "code",
   "execution_count": null,
   "metadata": {},
   "outputs": [
    {
     "name": "stderr",
     "output_type": "stream",
     "text": [
      "Rate limit exceeded. Sleeping for 827 seconds.\n"
     ]
    },
    {
     "name": "stdout",
     "output_type": "stream",
     "text": [
      "Wasnt able to scrape data. \n",
      "Reason : \n"
     ]
    }
   ],
   "source": [
    "responsing = test_function(set_api(auth_2=True), \"mental illness\", 1, 900)"
   ]
  },
  {
   "cell_type": "code",
   "execution_count": null,
   "metadata": {},
   "outputs": [],
   "source": [
    "keywords = [\n",
    "    \"depression\", \"anxiety\", \"stress\", \"panic attack\", \"bipolar disorder\", \"schizophrenia\", \"PTSD\", \"OCD\", \"eating disorder\", \"self-harm\", \"self-harm\", \"prevention of mental health distress\"\n",
    "]"
   ]
  }
 ],
 "metadata": {
  "kernelspec": {
   "display_name": "gsoc",
   "language": "python",
   "name": "python3"
  },
  "language_info": {
   "codemirror_mode": {
    "name": "ipython",
    "version": 3
   },
   "file_extension": ".py",
   "mimetype": "text/x-python",
   "name": "python",
   "nbconvert_exporter": "python",
   "pygments_lexer": "ipython3",
   "version": "3.13.2"
  }
 },
 "nbformat": 4,
 "nbformat_minor": 2
}
