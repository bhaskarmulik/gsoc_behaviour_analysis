{
 "cells": [
  {
   "cell_type": "code",
   "execution_count": 37,
   "metadata": {},
   "outputs": [
    {
     "data": {
      "text/plain": [
       "True"
      ]
     },
     "execution_count": 37,
     "metadata": {},
     "output_type": "execute_result"
    }
   ],
   "source": [
    "import numpy as np\n",
    "import pandas as pd\n",
    "import pickle\n",
    "import os\n",
    "from dotenv import load_dotenv\n",
    "import requests\n",
    "load_dotenv(\"./.env\")"
   ]
  },
  {
   "cell_type": "code",
   "execution_count": 30,
   "metadata": {},
   "outputs": [],
   "source": [
    "#I want to make three lexicons \n",
    "#a crisis lexicon of words related to mental health that are associated with crisis\n",
    "#a temporal lexicon that determine urgency of the crisis\n",
    "#a severity lexicon that determines the severity of the crisis\n",
    "\n",
    "crisis_lexicon = {\n",
    "    \"suicidal\": 10, \"suicide\": 10, \"unalive\": 10, \"kill myself\": 10, \n",
    "    \"end it all\": 10, \"no way out\": 9, \"die\": 9, \"goodbye forever\": 9, \n",
    "    \"hopeless\": 8, \"self-harm\": 8, \"cutting\": 8, \"jump off\": 8, \n",
    "    \"pills\": 7, \"overdose\": 7, \"hang myself\": 10, \"drown myself\": 9, \n",
    "    \"bridge\": 8, \"gun\": 9, \"razor\": 7, \"pain is unbearable\": 8, \n",
    "    \"nothing matters\": 7, \"no point in living\": 9, \"life is pointless\": 8, \n",
    "    \"I give up\": 8, \"can't take this anymore\": 9, \"don't want to be here\": 9, \n",
    "    \"I'm done\": 8, \"no future\": 7, \"nobody cares\": 6, \"I'm exhausted\": 6,\n",
    "    \"can't stop crying\": 6, \"broken beyond repair\": 7, \"hate myself\": 7,\n",
    "    \"failure\": 6, \"worthless\": 7, \"empty\": 6, \"lost all hope\": 9\n",
    "}\n",
    "\n",
    "\n",
    "temporal_lexicon = {\n",
    "    \"now\": 10, \"immediately\": 10, \"tonight\": 9, \"this moment\": 9, \n",
    "    \"right now\": 10, \"soon\": 8, \"today\": 8, \"can't wait\": 9, \n",
    "    \"urgent\": 9, \"this second\": 10, \"tomorrow\": 7, \"before it's too late\": 9, \n",
    "    \"running out of time\": 9, \"this week\": 6, \"eventually\": 5, \n",
    "    \"someday\": 4, \"whenever\": 3, \"later\": 2\n",
    "}\n",
    "\n",
    "\n",
    "severity_lexicon = {\n",
    "    \"extremely\": 10, \"desperately\": 10, \"completely\": 9, \"totally\": 9, \n",
    "    \"absolutely\": 9, \"cannot handle\": 9, \"falling apart\": 8, \"breaking down\": 8, \n",
    "    \"barely holding on\": 9, \"too much to bear\": 9, \"can't take anymore\": 10, \n",
    "    \"beyond saving\": 9, \"drowning\": 8, \"collapsing\": 8, \"out of control\": 8, \n",
    "    \"spiraling\": 7, \"barely surviving\": 7, \"giving up\": 8, \"crushed\": 7, \n",
    "    \"overwhelmed\": 7, \"anxious\": 6, \"stressed\": 5, \"worried\": 4, \"sad\": 3, \n",
    "    \"upset\": 2, \"unhappy\": 2\n",
    "}\n"
   ]
  },
  {
   "cell_type": "code",
   "execution_count": 31,
   "metadata": {},
   "outputs": [],
   "source": [
    "def reciprocal(x):\n",
    "    return 1/x"
   ]
  },
  {
   "cell_type": "code",
   "execution_count": 32,
   "metadata": {},
   "outputs": [],
   "source": [
    "from sklearn.feature_extraction.text import CountVectorizer\n",
    "import spacy\n",
    "model = spacy.load(\"en_core_web_sm\")"
   ]
  },
  {
   "cell_type": "code",
   "execution_count": 68,
   "metadata": {},
   "outputs": [],
   "source": [
    "def get_response(data):\n",
    "    api_key = os.getenv(\"JINA_API_KEY\")\n",
    "    URL = \"https://api.jina.ai/v1/embeddings\"\n",
    "\n",
    "    resp = requests.post(URL, headers={\"Authorization\": f\"Bearer {api_key}\"}, json={\"input\": data, \"model\" : \"jina-embeddings-v3\", \"task\" : \"classification\"})\n",
    "    print(type(resp.json()[\"data\"][0][\"embedding\"]))\n",
    "    return resp.json()[\"data\"][0][\"embedding\"]\n",
    "\n",
    "def calculate_mean_pool(sentences):\n",
    "    embeddings = []\n",
    "    for sentence in sentences:\n",
    "        embeddings.append(get_response(sentence)[\"data\"][0][\"embedding\"])\n",
    "    return np.mean(embeddings, axis=0)\n",
    "\n",
    "def sigmoid_function(x, k = 4.5):\n",
    "    return 1+ (2 / (1 + np.exp(- k * x)))\n",
    "\n",
    "def cosine_similarity_with_sim_diff(text_embedding, sim_diff_vec):\n",
    "    return np.dot(text_embedding, sim_diff_vec) / (np.linalg.norm(text_embedding) * np.linalg.norm(sim_diff_vec))\n",
    "\n",
    "def check_crisis_lexicon(text, lexicon):\n",
    "    words = []\n",
    "    for word in text.lower().split():\n",
    "        if word in lexicon:\n",
    "            words.append(word)\n",
    "    return words\n",
    "\n",
    "def check_dependency_lexicons(text, lexicon, model : spacy.language.Language, crisis_words):\n",
    "    words = []\n",
    "    for word in model(text):\n",
    "        if word.lemma_ in lexicon:\n",
    "            if word.head.text in crisis_words:\n",
    "                words.append(word)\n",
    "    return words\n",
    "\n",
    "def inference_basic_score (inference_text):\n",
    "    text_embedding = get_response(inference_text)\n",
    "    return sigmoid_function(cosine_similarity_with_sim_diff(text_embedding, pickle.load(open(\"sim_diff.pkl\", \"rb\"))))\n",
    "\n",
    "def return_lexicon_score(word, lexicon):\n",
    "    if word in lexicon:\n",
    "        return lexicon[word]/10\n",
    "    else:\n",
    "        return 1"
   ]
  },
  {
   "cell_type": "code",
   "execution_count": 69,
   "metadata": {},
   "outputs": [],
   "source": [
    "#Final score calc\n",
    "\n",
    "def final_score(inference_text):\n",
    "    # Get crisis words from the text\n",
    "    crisis_words = check_crisis_lexicon(inference_text, crisis_lexicon)\n",
    "    \n",
    "    # Calculate crisis lexicon score\n",
    "    crisis_score = sum(return_lexicon_score(word, crisis_lexicon) \n",
    "                      for word in crisis_words)\n",
    "    \n",
    "    # Get temporal dependencies and calculate temporal score\n",
    "    temporal_dependencies = check_dependency_lexicons(inference_text, temporal_lexicon, \n",
    "                                                    model, crisis_words)\n",
    "    temporal_score = sum(return_lexicon_score(word, temporal_lexicon) \n",
    "                        for word in temporal_dependencies)\n",
    "    \n",
    "    # Get severity dependencies and calculate severity score\n",
    "    severity_dependencies = check_dependency_lexicons(inference_text, severity_lexicon, \n",
    "                                                    model, crisis_words)\n",
    "    severity_score = sum(return_lexicon_score(word, severity_lexicon) \n",
    "                        for word in severity_dependencies) if severity_dependencies else 1\n",
    "    \n",
    "    # Calculate inference score\n",
    "    inference_score = inference_basic_score(inference_text)\n",
    "    \n",
    "    # Return final score: (inference_score * severity_score) + temporal_score + crisis_score\n",
    "    return (inference_score * severity_score) + temporal_score + crisis_score "
   ]
  },
  {
   "cell_type": "code",
   "execution_count": 70,
   "metadata": {},
   "outputs": [
    {
     "name": "stdout",
     "output_type": "stream",
     "text": [
      "<class 'list'>\n",
      "Crisis Score:  2.4126721968045803\n"
     ]
    }
   ],
   "source": [
    "def main():\n",
    "    text = \"I feel like I am losing control and I can't take this anymore. I am completely overwhelmed and I don't know what to do. I feel like I'm drowning in my own thoughts and emotions. It's all too much to bear.\"\n",
    "    print(\"Crisis Score: \", final_score(text))\n",
    "\n",
    "if __name__ == \"__main__\":\n",
    "    main()"
   ]
  },
  {
   "cell_type": "code",
   "execution_count": null,
   "metadata": {},
   "outputs": [],
   "source": []
  }
 ],
 "metadata": {
  "kernelspec": {
   "display_name": "gsoc",
   "language": "python",
   "name": "python3"
  },
  "language_info": {
   "codemirror_mode": {
    "name": "ipython",
    "version": 3
   },
   "file_extension": ".py",
   "mimetype": "text/x-python",
   "name": "python",
   "nbconvert_exporter": "python",
   "pygments_lexer": "ipython3",
   "version": "3.12.0"
  }
 },
 "nbformat": 4,
 "nbformat_minor": 2
}
